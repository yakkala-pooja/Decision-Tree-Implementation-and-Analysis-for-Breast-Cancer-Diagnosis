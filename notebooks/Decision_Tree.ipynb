{
 "cells": [
  {
   "cell_type": "markdown",
   "id": "f12ff1da-032c-4a56-9946-67683b4f714c",
   "metadata": {},
   "source": [
    "**Importing required libraries**"
   ]
  },
  {
   "cell_type": "code",
   "execution_count": 1,
   "id": "6d87b5b4-49a4-4fcf-95e4-020be01ffe06",
   "metadata": {},
   "outputs": [],
   "source": [
    "import math\n",
    "import numpy as np\n",
    "import pandas as pd\n",
    "import matplotlib.pyplot as plt\n",
    "import graphviz"
   ]
  },
  {
   "cell_type": "markdown",
   "id": "fe959b85-1394-4548-9f63-4e0f9fbf2b8c",
   "metadata": {},
   "source": [
    "**Getting Train, Validation and Test datasets**"
   ]
  },
  {
   "cell_type": "code",
   "execution_count": 2,
   "id": "35319217-90f3-45b5-8d9e-2b9e5bdc6483",
   "metadata": {},
   "outputs": [],
   "source": [
    "df = pd.read_csv('wdbc_train_normalized.csv')\n",
    "dev = pd.read_csv('wdbc_dev_normalized.csv')"
   ]
  },
  {
   "cell_type": "markdown",
   "id": "47891500-1594-4b78-a8c1-0ca3960fd0f0",
   "metadata": {},
   "source": [
    "**Encoding Class Label (y)**"
   ]
  },
  {
   "cell_type": "code",
   "execution_count": 3,
   "id": "fa7096a4-2180-4931-84a7-ce0c9225854b",
   "metadata": {},
   "outputs": [],
   "source": [
    "df['Diagnosis'] = (df['Diagnosis'] == 'M').astype(int)\n",
    "dev['Diagnosis'] = (dev['Diagnosis'] == 'M').astype(int)\n",
    "names = df.columns[:-1].tolist()"
   ]
  },
  {
   "cell_type": "markdown",
   "id": "bf436d7d-7392-4ac0-9769-92a5fd3374e9",
   "metadata": {},
   "source": [
    "**Dividing the Datasets as X and Y**"
   ]
  },
  {
   "cell_type": "code",
   "execution_count": 4,
   "id": "22659409-48e4-43ef-b68b-34f74d03796b",
   "metadata": {},
   "outputs": [],
   "source": [
    "X = df[names].values\n",
    "Y = df['Diagnosis'].values.reshape(-1,1)\n",
    "\n",
    "devX = dev[names].values\n",
    "devY = dev['Diagnosis'].values.reshape(-1,1)"
   ]
  },
  {
   "cell_type": "markdown",
   "id": "d0b24eb2-c814-48e7-80ba-cfdd494794f1",
   "metadata": {},
   "source": [
    "**Creating a Decision Tree Node class**"
   ]
  },
  {
   "cell_type": "code",
   "execution_count": 5,
   "id": "788df71b-3c2e-4b38-927d-46a6dc2e8206",
   "metadata": {},
   "outputs": [],
   "source": [
    "class DTNode():\n",
    "\n",
    "    def __init__(self, attribute=None, threshold=None, leftsub=None, rightsub=None, gain=None, value=None):\n",
    "        self.attribute = attribute\n",
    "        self.threshold = threshold\n",
    "        self.rightsub = rightsub\n",
    "        self.leftsub = leftsub\n",
    "        self.gain = gain\n",
    "        self.value = value\n"
   ]
  },
  {
   "cell_type": "markdown",
   "id": "cc276bf0-074b-4ecc-8d02-90e890181728",
   "metadata": {},
   "source": [
    "**Creating a Decision Tree class with Gini and Gain as splitting techniques**"
   ]
  },
  {
   "cell_type": "code",
   "execution_count": 6,
   "id": "d1a36d09-ec6a-415b-b1b7-f2fd62fd8873",
   "metadata": {},
   "outputs": [],
   "source": [
    "class DT():\n",
    "\n",
    "    def __init__(self, max_depth=30, mode=\"entropy\"):\n",
    "        self.max_depth = max_depth\n",
    "        self.mode = mode\n",
    "\n",
    "    def splitdata(self, dataset, attribute, threshold):\n",
    "        ltemp = dataset[:, attribute] <= threshold\n",
    "        leftset = dataset[ltemp]\n",
    "        rtemp = dataset[:, attribute] > threshold\n",
    "        rightset = dataset[rtemp]\n",
    "        return leftset, rightset\n",
    "\n",
    "    def entropy(self, y):\n",
    "        entropy = 0\n",
    "        labels = np.unique(y)\n",
    "        for label in labels:\n",
    "            pl = len(y[y == label]) / len(y)\n",
    "            entropy += -pl * np.log2(pl) if pl > 0 else 0\n",
    "        return entropy\n",
    "\n",
    "    def gini(self, y):\n",
    "        gini = 1\n",
    "        labels = np.unique(y)\n",
    "        for label in labels:\n",
    "            pg = len(y[y == label]) / len(y)\n",
    "            gini -= pg ** 2\n",
    "        return gini\n",
    "\n",
    "    def infogain(self, parent, left, right):\n",
    "        wright = len(right) / len(parent)\n",
    "        wleft = len(left) / len(parent)\n",
    "        weighted_en = (wleft * self.entropy(left)) + (wright * self.entropy(right))\n",
    "        return self.entropy(parent) - weighted_en\n",
    "\n",
    "    def ginigain(self, parent, left, right):\n",
    "        wright = len(right) / len(parent)\n",
    "        wleft = len(left) / len(parent)\n",
    "        weighted_gini = (wleft * self.gini(left)) + (wright * self.gini(right))\n",
    "        return self.gini(parent) - weighted_gini\n",
    "\n",
    "    def bestsplit(self, dataset, nattributes):\n",
    "        splitresult = {'gain': -1, 'attribute': None, 'threshold': None}\n",
    "        for index in range(nattributes):\n",
    "            values = dataset[:, index]\n",
    "            thresholds = np.unique(values)\n",
    "            for threshold in thresholds:\n",
    "                leftdset, rightdset = self.splitdata(dataset, index, threshold)\n",
    "                if len(leftdset) and len(rightdset):\n",
    "                    parent = dataset[:, -1]\n",
    "                    lefty, righty = leftdset[:, -1], rightdset[:, -1]\n",
    "\n",
    "                    if self.mode == \"entropy\":\n",
    "                        gain = self.infogain(parent, lefty, righty)\n",
    "                    elif self.mode == \"gini\":\n",
    "                        gain = self.ginigain(parent, lefty, righty)\n",
    "                    if gain > splitresult[\"gain\"]:\n",
    "                        splitresult[\"threshold\"] = threshold\n",
    "                        splitresult[\"attribute\"] = index\n",
    "                        splitresult[\"leftset\"] = leftdset\n",
    "                        splitresult[\"rightset\"] = rightdset\n",
    "                        splitresult[\"gain\"] = gain\n",
    "        return splitresult\n",
    "\n",
    "    def leafval(self, y):\n",
    "        return max(y, key=list(y).count)\n",
    "\n",
    "    def treeBuilding(self, dataset, currdepth=0):\n",
    "        X, Y = dataset[:, :-1], dataset[:, -1]\n",
    "        nsamples, nattributes = X.shape\n",
    "        if currdepth <= self.max_depth:\n",
    "            splitresult = self.bestsplit(dataset, nattributes)\n",
    "            if splitresult[\"gain\"] > 0:\n",
    "                leftnode = self.treeBuilding(splitresult[\"leftset\"], currdepth + 1)\n",
    "                rightnode = self.treeBuilding(splitresult[\"rightset\"], currdepth + 1)\n",
    "                return DTNode(splitresult[\"attribute\"], splitresult[\"threshold\"], leftnode, rightnode, splitresult[\"gain\"])\n",
    "        leaf = self.leafval(Y)\n",
    "        return DTNode(value=leaf)\n",
    "\n",
    "    def fit(self, X, Y):\n",
    "        dataset = np.concatenate((X, Y.reshape(-1, 1)), axis=1)\n",
    "        self.root = self.treeBuilding(dataset)\n",
    "\n",
    "    def predict(self, X):\n",
    "        predictions = [self.prediction(x, self.root) for x in X]\n",
    "        return np.array(predictions)\n",
    "\n",
    "    def prediction(self, x, node):\n",
    "        if node.value is not None:\n",
    "            return node.value\n",
    "        attribute = x[node.attribute]\n",
    "        if attribute <= node.threshold:\n",
    "            return self.prediction(x, node.leftsub)\n",
    "        return self.prediction(x, node.rightsub)\n",
    "\n",
    "    def treeDiagram(self, node=None, dot=None):\n",
    "        if dot is None:\n",
    "            dot = graphviz.Digraph(comment='Decision Tree')\n",
    "        if node is None:\n",
    "            node = self.root\n",
    "        if node.value is not None:\n",
    "            dot.node(str(id(node)), f\"Class: {node.value}\", shape='box')\n",
    "        else:\n",
    "            dot.node(str(id(node)), f\"Feature {node.attribute} <= {node.threshold}\")\n",
    "            if node.leftsub:\n",
    "                dot.edge(str(id(node)), str(id(node.leftsub)), label=\"True\")\n",
    "                self.treeDiagram(node.leftsub, dot)\n",
    "            if node.rightsub:\n",
    "                dot.edge(str(id(node)), str(id(node.rightsub)), label=\"False\")\n",
    "                self.treeDiagram(node.rightsub, dot)\n",
    "        return dot\n"
   ]
  },
  {
   "cell_type": "markdown",
   "id": "de70c933-8e62-4f4e-b22d-e5b6c7fcba41",
   "metadata": {},
   "source": [
    "**Random split function**"
   ]
  },
  {
   "cell_type": "code",
   "execution_count": 7,
   "id": "f49e784b-30c3-4cae-bd69-818135243012",
   "metadata": {},
   "outputs": [],
   "source": [
    "def randomsplit(X, Y, randomstate=41, testsize=0.2):\n",
    "    nsamples = X.shape[0]\n",
    "    np.random.seed(randomstate)\n",
    "    shuffled = np.random.permutation(np.arange(nsamples))\n",
    "    ts = int(nsamples * testsize)\n",
    "    test = shuffled[:ts]\n",
    "    train = shuffled[ts:]\n",
    "    X_train, X_test = X[train], X[test]\n",
    "    y_train, y_test = Y[train], Y[test]\n",
    "    return X_train, X_test, y_train, y_test"
   ]
  },
  {
   "cell_type": "markdown",
   "id": "8df0ccb6-83e6-45f6-8f8c-30a3f14db570",
   "metadata": {},
   "source": [
    "**Accuracy and Informativeness Metrics**"
   ]
  },
  {
   "cell_type": "code",
   "execution_count": 8,
   "id": "17cdb2bb-49d2-4a7c-aded-3345ad0000df",
   "metadata": {},
   "outputs": [],
   "source": [
    "def accuracy(ytrue, ypred):\n",
    "    ytrue = ytrue.flatten()\n",
    "    ypred = ypred.flatten()\n",
    "    totsample = len(ytrue)\n",
    "    correctpred = np.sum(ytrue == ypred)\n",
    "    return (correctpred / totsample) "
   ]
  },
  {
   "cell_type": "code",
   "execution_count": 9,
   "id": "3eda6564-30b8-47df-b722-7fae0d67aa21",
   "metadata": {},
   "outputs": [],
   "source": [
    "def precision(TP, FP):\n",
    "    if (TP + FP) > 0:\n",
    "        precision = TP / (TP + FP)\n",
    "    else: \n",
    "        precision = 0\n",
    "    return precision\n",
    "\n",
    "def specificity(TN, FP):\n",
    "    specificity = TN / (TN + FP)\n",
    "    return specificity\n",
    "\n",
    "def npv(TN, FN):\n",
    "    if (TN + FN) > 0:\n",
    "        npv = TN / (TN + FN)\n",
    "    else:\n",
    "        npv = 0\n",
    "    return npv\n",
    "\n",
    "def confusionMat(ytrue, ypred):\n",
    "    ypred = ypred.flatten()\n",
    "    ytrue = ytrue.flatten()\n",
    "    nclass = len(np.unique(ytrue))\n",
    "    for i in range(nclass):\n",
    "        mpred = ypred == i\n",
    "        mtrue = ytrue == i\n",
    "        TP = np.sum(mtrue & mpred)\n",
    "        TN = np.sum((mtrue != True) & (mpred != True))\n",
    "        FP = np.sum((mtrue != True) & mpred)\n",
    "        FN = np.sum(mtrue & (mpred != True))\n",
    "        s = TP / (TP + FN)\n",
    "        p = precision(TP, FP)\n",
    "        specific = specificity(TN, FP)\n",
    "        f1 = 2 * (p * s)/(p + s) if (p+s) > 0 else 0\n",
    "        fp = FP / (FP + TN)\n",
    "        fn = FN / (FN + TP)\n",
    "        n = npv(TN, FN)\n",
    "        confusionMat = np.array([[TP, FN], [FP, TN]])\n",
    "        print(\"Confusion Matrix:\")\n",
    "        print(confusionMat)\n",
    "    return s, specific, p, f1, fp, fn, n"
   ]
  },
  {
   "cell_type": "code",
   "execution_count": 10,
   "id": "dd25da81-291b-4e53-9cda-7f2eba29a29b",
   "metadata": {},
   "outputs": [],
   "source": [
    "Xtrain, Xtest, Ytrain, Ytest = randomsplit(X, Y, randomstate=42, testsize=0)"
   ]
  },
  {
   "cell_type": "code",
   "execution_count": 11,
   "id": "5cfb508d-e3b6-4d2a-b330-1829817f75e7",
   "metadata": {},
   "outputs": [
    {
     "name": "stdin",
     "output_type": "stream",
     "text": [
      "gini or entropy gini\n"
     ]
    }
   ],
   "source": [
    "mode = input(\"gini or entropy\")\n",
    "model = DT(7, mode)\n",
    "model.fit(Xtrain, Ytrain)"
   ]
  },
  {
   "cell_type": "markdown",
   "id": "1602bca1-657e-49ec-a065-e6d2bc660e88",
   "metadata": {},
   "source": [
    "**Decision Tree Visualization**"
   ]
  },
  {
   "cell_type": "code",
   "execution_count": 12,
   "id": "e9dc993b-6e43-497e-a224-f341ef291586",
   "metadata": {},
   "outputs": [
    {
     "data": {
      "text/plain": [
       "'decision_treeTrain.gv.pdf'"
      ]
     },
     "execution_count": 12,
     "metadata": {},
     "output_type": "execute_result"
    }
   ],
   "source": [
    "dot = model.treeDiagram(model.root)\n",
    "dot.render('decision_treeTrain.gv', view=True)"
   ]
  },
  {
   "cell_type": "markdown",
   "id": "c97bd665-f0e6-4a35-9729-5316f82c37b2",
   "metadata": {},
   "source": [
    "**Validation with Dev dataset**"
   ]
  },
  {
   "cell_type": "code",
   "execution_count": 13,
   "id": "b56e071d-181e-4965-9c62-bf605954a139",
   "metadata": {},
   "outputs": [],
   "source": [
    "devXtrain, devXtest, devYtrain, devYtest = randomsplit(devX, devY, randomstate=42, testsize=1)\n",
    "\n",
    "prediction = model.predict(devXtest)"
   ]
  },
  {
   "cell_type": "code",
   "execution_count": 14,
   "id": "f06d9e79-21ba-40fa-927c-6eca9d4a095b",
   "metadata": {},
   "outputs": [
    {
     "name": "stdout",
     "output_type": "stream",
     "text": [
      "\u001b[?1l\u001b>Model's Accuracy: 0.9298245614035088 C)ancel                                          \u001b[22;38H\u001b[m\u001b[m                           \u001b[2;1H                                                                                \u001b[3;1H                                                                                \u001b[4;1H                                                                                \u001b[5;1H                                                                                \u001b[6;1H                                                                                \u001b[7;1H                                                                                \u001b[8;1H                                                                                \u001b[9;1H                                                                                \u001b[10;1H                                                                                \u001b[11;1H                                                                                \u001b[12;1H                                                                                \u001b[13;1H                                                                                \u001b[14;1H                                                                                \u001b[15;1H                                                                                \u001b[16;1H                                                                                \u001b[17;1H                                                                                \u001b[18;1H                                                                                \u001b[19;1H                                                                                \u001b[20;1H                                                                                \u001b[21;1H                                                                                \u001b[22;1H                                                                                \u001b[23;1H                                                                                \u001b[24;1H                                                                              \u001b[4h\u001b[37m\u001b[40m \u001b[4l\u001b[H\u001b[m\u001b[m\u001b[37m\u001b[40m\u001b[m\u001b[m\u001b[21B\u001b[33m\u001b[44m\u001b[1mGetting file://localhost/home/stu5/s18/py9363/PS1-yakkala/decision_treeTrain.gv \u001b[22;80H\u001b[m\u001b[m\n",
      "Model's Confusion Matrix:\n",
      "Confusion Matrix:\n",
      "[[67  4]\n",
      " [ 4 39]]\n",
      "Confusion Matrix:\n",
      "[[39  4]\n",
      " [ 4 67]]\n",
      "Recall: 0.9069767441860465\n",
      "Specificity: 0.9436619718309859\n",
      "Precision: 0.9069767441860465\n",
      "F1 Score: 0.9069767441860465\n",
      "FPR Score: 0.056338028169014086\n",
      "FNR Score: 0.09302325581395349\n",
      "NVP Score: 0.9436619718309859\n"
     ]
    },
    {
     "name": "stderr",
     "output_type": "stream",
     "text": [
      "Error: no \"view\" rule for type \"application/pdf\" passed its test case\n",
      "       (for more information, add \"--debug=1\" on the command line)\n"
     ]
    }
   ],
   "source": [
    "print(f\"Model's Accuracy: {accuracy(devYtest, prediction)}\")\n",
    "print(f\"Model's Confusion Matrix:\")\n",
    "recall, sp, p, f1, fpr, fnr, nvp = confusionMat(devYtest, prediction)\n",
    "print(f\"Recall: {recall}\")\n",
    "print(f\"Specificity: {sp}\")\n",
    "print(f\"Precision: {p}\")\n",
    "print(f\"F1 Score: {f1}\")\n",
    "print(f\"FPR Score: {fpr}\")\n",
    "print(f\"FNR Score: {fnr}\")\n",
    "print(f\"NVP Score: {nvp}\")"
   ]
  },
  {
   "cell_type": "markdown",
   "id": "805d74df-a765-4e61-ad8d-e4218f071014",
   "metadata": {},
   "source": [
    "**Decision Tree formed on Dev set**"
   ]
  },
  {
   "cell_type": "code",
   "execution_count": 15,
   "id": "47c339c5-01e4-4306-a90c-5ec915ad5bf3",
   "metadata": {},
   "outputs": [
    {
     "data": {
      "text/plain": [
       "'decision_treeDev.gv.pdf'"
      ]
     },
     "execution_count": 15,
     "metadata": {},
     "output_type": "execute_result"
    }
   ],
   "source": [
    "dot = model.treeDiagram(model.root)\n",
    "dot.render('decision_treeDev.gv', view=True)"
   ]
  },
  {
   "cell_type": "markdown",
   "id": "389fe327-5958-4f40-ac6d-ea12cc7add89",
   "metadata": {},
   "source": [
    "**Extracting important attributes**"
   ]
  },
  {
   "cell_type": "code",
   "execution_count": 16,
   "id": "5e6bcc4f-aae9-465e-881a-9f1481fc2604",
   "metadata": {},
   "outputs": [
    {
     "name": "stdout",
     "output_type": "stream",
     "text": [
      "\u001b[?1l\u001b>4;1H\u001b[2J\u001b[?47l\u001b8on/pdf D)ownload, or C)ancel                                          \u001b[22;38H\u001b[m\u001b[m                           \u001b[2;1H                                                                                \u001b[3;1H                                                                                \u001b[4;1H                                                                                \u001b[5;1H                                                                                \u001b[6;1H                                                                                \u001b[7;1H                                                                                \u001b[8;1H                                                                                \u001b[9;1H                                                                                \u001b[10;1H                                                                                \u001b[11;1H                                                                                \u001b[12;1H                                                                                \u001b[13;1H                                                                                \u001b[14;1H                                                                                \u001b[15;1H                                                                                \u001b[16;1H                                                                                \u001b[17;1H                                                                                \u001b[18;1H                                                                                \u001b[19;1H                                                                                \u001b[20;1H                                                                                \u001b[21;1H                                                                                \u001b[22;1H                                                                                \u001b[23;1H                                                                                \u001b[24;1H                                                                              \u001b[4h\u001b[37m\u001b[40m \u001b[4l\u001b[H\u001b[m\u001b[m\u001b[37m\u001b[40m\u001b[m\u001b[m\u001b[21B\u001b[33m\u001b[44m\u001b[1mGetting file://localhost/home/stu5/s18/py9363/PS1-yakkala/decision_treeDev.gv.p \u001b[22;80H\u001b[m\u001b[m"
     ]
    },
    {
     "name": "stderr",
     "output_type": "stream",
     "text": [
      "Error: no \"view\" rule for type \"application/pdf\" passed its test case\n",
      "       (for more information, add \"--debug=1\" on the command line)\n"
     ]
    },
    {
     "data": {
      "image/png": "[encoded data removed]",
      "text/plain": [
       "<Figure size 1000x600 with 1 Axes>"
      ]
     },
     "metadata": {},
     "output_type": "display_data"
    }
   ],
   "source": [
    "def extractattribute(model):\n",
    "    gains = []\n",
    "    if model.rightsub:\n",
    "        gains.extend(extractattribute(model.rightsub))\n",
    "    if model.leftsub:\n",
    "        gains.extend(extractattribute(model.leftsub))\n",
    "    if model.gain:\n",
    "        gains.append((model.attribute, model.gain))\n",
    "    return gains\n",
    "attribute = extractattribute(model.root)\n",
    "index, gain = zip(*attribute)\n",
    "plt.figure(figsize=(10, 6))\n",
    "plt.bar(index, gain)\n",
    "plt.xlabel('Feature Index')\n",
    "plt.ylabel('Information Gain')\n",
    "plt.title('Feature Information Gains')\n",
    "plt.show()"
   ]
  },
  {
   "cell_type": "markdown",
   "id": "9f03854b-657d-4d9f-b25a-55c6886da01c",
   "metadata": {},
   "source": [
    "**Tuning the hyperparameters**"
   ]
  },
  {
   "cell_type": "code",
   "execution_count": 17,
   "id": "85c011c3-8909-4c42-b7f4-0c852f1fb104",
   "metadata": {},
   "outputs": [
    {
     "name": "stdout",
     "output_type": "stream",
     "text": [
      "Params: max_depth=3, mode=gini, Accuracy=0.9210526315789473\n",
      "Params: max_depth=3, mode=entropy, Accuracy=0.9210526315789473\n",
      "Params: max_depth=5, mode=gini, Accuracy=0.9210526315789473\n",
      "Params: max_depth=5, mode=entropy, Accuracy=0.9298245614035088\n",
      "Params: max_depth=7, mode=gini, Accuracy=0.9298245614035088\n",
      "Params: max_depth=7, mode=entropy, Accuracy=0.9298245614035088\n",
      "Params: max_depth=15, mode=gini, Accuracy=0.9298245614035088\n",
      "Params: max_depth=15, mode=entropy, Accuracy=0.9298245614035088\n",
      "Params: max_depth=20, mode=gini, Accuracy=0.9298245614035088\n",
      "Params: max_depth=20, mode=entropy, Accuracy=0.9298245614035088\n",
      "Params: max_depth=25, mode=gini, Accuracy=0.9298245614035088\n",
      "Params: max_depth=25, mode=entropy, Accuracy=0.9298245614035088\n",
      "\n",
      "Best Hyperparameters:\n",
      "{'max_depth': 5, 'mode': 'entropy'}\n",
      "Best Accuracy: 0.9298245614035088\n"
     ]
    }
   ],
   "source": [
    "def tuning(Xtrain, Ytrain, Xtest, Ytest):\n",
    "    max_depths = [3, 5, 7, 15, 20, 25]\n",
    "    modes = ['gini', 'entropy']\n",
    "    bestacc = 0\n",
    "    params = {}\n",
    "    for md in max_depths:\n",
    "        for mode in modes:\n",
    "            tree = DT(max_depth=md, mode=mode)\n",
    "            tree.fit(Xtrain, Ytrain)\n",
    "            Ypred = tree.predict(Xtest)\n",
    "            acc = accuracy(Ytest, Ypred)\n",
    "            if acc > bestacc:\n",
    "                bestacc = acc\n",
    "                params = {\n",
    "                    'max_depth': md,\n",
    "                    'mode': mode\n",
    "                }\n",
    "            print(f\"Params: max_depth={md}, mode={mode}, Accuracy={acc}\")\n",
    "\n",
    "    print(\"\\nBest Hyperparameters:\")\n",
    "    print(params)\n",
    "    print(f\"Best Accuracy: {bestacc}\")\n",
    "\n",
    "tuning(Xtrain, Ytrain, devXtest, devYtest)"
   ]
  },
  {
   "cell_type": "markdown",
   "id": "8cb03fcd-3bbc-4a93-aad9-ccb5bf14d2cf",
   "metadata": {},
   "source": [
    "**Model fitting with best GINI hyperparameters**"
   ]
  },
  {
   "cell_type": "code",
   "execution_count": 18,
   "id": "3ca5efc4-426d-4478-9fb0-024dd3aeacc6",
   "metadata": {},
   "outputs": [],
   "source": [
    "#Gini Tree\n",
    "mg = DT(7, mode='gini')\n",
    "mg.fit(Xtrain, Ytrain)\n",
    "\n",
    "pregi = mg.predict(devXtest)"
   ]
  },
  {
   "cell_type": "code",
   "execution_count": 19,
   "id": "e3702afe-2a97-4b3a-ae66-a9916919d4e9",
   "metadata": {},
   "outputs": [
    {
     "name": "stdout",
     "output_type": "stream",
     "text": [
      "Model's Accuracy: 0.9298245614035088\n",
      "Model's Confusion Matrix:\n",
      "Confusion Matrix:\n",
      "[[67  4]\n",
      " [ 4 39]]\n",
      "Confusion Matrix:\n",
      "[[39  4]\n",
      " [ 4 67]]\n",
      "Recall: 0.9069767441860465\n",
      "Specificity: 0.9436619718309859\n",
      "Precision: 0.9069767441860465\n",
      "F1 Score: 0.9069767441860465\n",
      "FPR Score: 0.056338028169014086\n",
      "FNR Score: 0.09302325581395349\n",
      "NVP Score: 0.9436619718309859\n"
     ]
    }
   ],
   "source": [
    "print(f\"Model's Accuracy: {accuracy(devYtest, pregi)}\")\n",
    "print(f\"Model's Confusion Matrix:\")\n",
    "recall, sp, p, f1, fpr, fnr, nvp = confusionMat(devYtest, pregi)\n",
    "print(f\"Recall: {recall}\")\n",
    "print(f\"Specificity: {sp}\")\n",
    "print(f\"Precision: {p}\")\n",
    "print(f\"F1 Score: {f1}\")\n",
    "print(f\"FPR Score: {fpr}\")\n",
    "print(f\"FNR Score: {fnr}\")\n",
    "print(f\"NVP Score: {nvp}\")"
   ]
  },
  {
   "cell_type": "markdown",
   "id": "9afb0a3f-0fb5-43ab-a612-65aa269e0235",
   "metadata": {},
   "source": [
    "**Model fitting with best hyperparameters**"
   ]
  },
  {
   "cell_type": "code",
   "execution_count": 20,
   "id": "d5828a85-7ad6-4414-99bd-3d0cb53d3ef8",
   "metadata": {},
   "outputs": [
    {
     "name": "stdout",
     "output_type": "stream",
     "text": [
      "Model's Accuracy: 0.9298245614035088\n",
      "Model's Confusion Matrix:\n",
      "Confusion Matrix:\n",
      "[[67  4]\n",
      " [ 4 39]]\n",
      "Confusion Matrix:\n",
      "[[39  4]\n",
      " [ 4 67]]\n",
      "Recall: 0.9069767441860465\n",
      "Specificity: 0.9436619718309859\n",
      "Precision: 0.9069767441860465\n",
      "F1 Score: 0.9069767441860465\n",
      "FPR Score: 0.056338028169014086\n",
      "FNR Score: 0.09302325581395349\n",
      "NVP Score: 0.9436619718309859\n"
     ]
    }
   ],
   "source": [
    "#Info_Gain Tree\n",
    "mi = DT(5, mode='entropy')\n",
    "mi.fit(Xtrain, Ytrain)\n",
    "\n",
    "preig = mi.predict(devXtest)\n",
    "\n",
    "print(f\"Model's Accuracy: {accuracy(devYtest, preig)}\")\n",
    "print(f\"Model's Confusion Matrix:\")\n",
    "recall, sp, p, f1, fpr, fnr, nvp = confusionMat(devYtest, preig)\n",
    "print(f\"Recall: {recall}\")\n",
    "print(f\"Specificity: {sp}\")\n",
    "print(f\"Precision: {p}\")\n",
    "print(f\"F1 Score: {f1}\")\n",
    "print(f\"FPR Score: {fpr}\")\n",
    "print(f\"FNR Score: {fnr}\")\n",
    "print(f\"NVP Score: {nvp}\")"
   ]
  },
  {
   "cell_type": "markdown",
   "id": "0e83aa6b-99a8-4c56-90c7-ba8bb4093420",
   "metadata": {},
   "source": [
    "**Performance Table**"
   ]
  },
  {
   "cell_type": "code",
   "execution_count": 21,
   "id": "93425416-0265-44a6-bedd-aaead6423733",
   "metadata": {},
   "outputs": [
    {
     "name": "stdout",
     "output_type": "stream",
     "text": [
      "Confusion Matrix:\n",
      "[[67  4]\n",
      " [ 4 39]]\n",
      "Confusion Matrix:\n",
      "[[39  4]\n",
      " [ 4 67]]\n",
      "Confusion Matrix:\n",
      "[[67  4]\n",
      " [ 4 39]]\n",
      "Confusion Matrix:\n",
      "[[39  4]\n",
      " [ 4 67]]\n",
      "               Criterion  Accuracy     Error  Precision    Recall\n",
      "0                   Gini  0.929825  0.070175   0.906977  0.906977\n",
      "1  Information Gain (IG)  0.929825  0.070175   0.906977  0.906977\n"
     ]
    }
   ],
   "source": [
    "giniaccuracy = accuracy(devYtest, pregi)\n",
    "ginierror = 1 - giniaccuracy\n",
    "grecall, gsp, gp, gf1, gfpr, gfnr, gnvp = confusionMat(devYtest, pregi)\n",
    "giniprecision = gp\n",
    "ginirecall = grecall\n",
    "\n",
    "igaccuracy = accuracy(devYtest, preig)\n",
    "igerror = 1 - igaccuracy\n",
    "irecall, isp, ip, if1, ifpr, ifnr, invp = confusionMat(devYtest, preig)\n",
    "igprecision = ip\n",
    "igrecall = irecall\n",
    "\n",
    "performancetable = pd.DataFrame({\n",
    "    \"Criterion\": [\"Gini\", \"Information Gain (IG)\"],\n",
    "    \"Accuracy\": [giniaccuracy, igaccuracy],\n",
    "    \"Error\": [ginierror, igerror],\n",
    "    \"Precision\": [giniprecision, igprecision],\n",
    "    \"Recall\": [ginirecall, igrecall]\n",
    "})\n",
    "\n",
    "print(performancetable)"
   ]
  },
  {
   "cell_type": "markdown",
   "id": "99700523-a54d-4910-be8a-6e4b124bbd11",
   "metadata": {},
   "source": [
    "**Majority Class Classifier**"
   ]
  },
  {
   "cell_type": "code",
   "execution_count": 22,
   "id": "996334f9-74ec-4cc6-a244-a34ac048ecf5",
   "metadata": {},
   "outputs": [
    {
     "name": "stdout",
     "output_type": "stream",
     "text": [
      "Majority class: 0\n",
      "(114, 1)\n",
      "(114, 1)\n",
      "Confusion Matrix:\n",
      "[[71  0]\n",
      " [43  0]]\n",
      "Confusion Matrix:\n",
      "[[ 0 43]\n",
      " [ 0 71]]\n"
     ]
    }
   ],
   "source": [
    "uniqueclass, count = np.unique(devYtest, return_counts=True)\n",
    "majorityclass = uniqueclass[np.argmax(count)]\n",
    "\n",
    "print(\"Majority class:\", majorityclass)\n",
    "\n",
    "ypredmajority = np.full_like(devYtest, majorityclass)\n",
    "print(ypredmajority.shape)\n",
    "print(devYtest.shape)\n",
    "\n",
    "majorityacc = accuracy(devYtest, ypredmajority)\n",
    "majorityerr = 1 - majorityacc\n",
    "mrecall, msp, mp, mf1, mfpr, mfnr, mnvp = confusionMat(devYtest, ypredmajority)\n",
    "majoritypre = mp\n",
    "majorityrecall = mrecall"
   ]
  },
  {
   "cell_type": "markdown",
   "id": "ce20c578-762a-4002-841c-557360a02129",
   "metadata": {},
   "source": [
    "**Performance table for Majority Class Classifier**"
   ]
  },
  {
   "cell_type": "code",
   "execution_count": 23,
   "id": "5d53df8a-3f84-42b3-915f-344d87058a38",
   "metadata": {},
   "outputs": [
    {
     "name": "stdout",
     "output_type": "stream",
     "text": [
      "                 Criterion  Accuracy     Error  Precision    Recall\n",
      "0                     Gini  0.929825  0.070175   0.906977  0.906977\n",
      "1    Information Gain (IG)  0.929825  0.070175   0.906977  0.906977\n",
      "2  Majority Class Baseline  0.622807  0.377193   0.000000  0.000000\n"
     ]
    }
   ],
   "source": [
    "performancetable = pd.DataFrame({\n",
    "    \"Criterion\": [\"Gini\", \"Information Gain (IG)\", \"Majority Class Baseline\"],\n",
    "    \"Accuracy\": [giniaccuracy, igaccuracy, majorityacc],\n",
    "    \"Error\": [ginierror, igerror, majorityerr],\n",
    "    \"Precision\": [giniprecision, igprecision, majoritypre],\n",
    "    \"Recall\": [ginirecall, igrecall, majorityrecall]\n",
    "})\n",
    "\n",
    "print(performancetable)"
   ]
  },
  {
   "cell_type": "markdown",
   "id": "7c47a74b-ae50-404c-a7dd-b4a82fdeee37",
   "metadata": {},
   "source": [
    "**Tesing with Best Hyperparameters**"
   ]
  },
  {
   "cell_type": "code",
   "execution_count": 24,
   "id": "d7f33005-f637-4528-af94-58cc0418fef6",
   "metadata": {},
   "outputs": [
    {
     "name": "stdout",
     "output_type": "stream",
     "text": [
      "[0. 0. 1. 0. 1. 0. 1. 1. 1. 0. 0. 1. 0. 1. 0. 1. 0. 0. 0. 0. 1. 0. 0. 1.\n",
      " 1. 0. 0. 0. 0. 0. 0. 0. 0. 0. 0. 1. 0. 0. 0. 0. 1. 0. 1. 0. 0. 0. 0. 1.\n",
      " 1. 0. 1. 0. 0. 0. 1. 1. 0. 0. 1. 0. 1. 0. 0. 1. 1. 1. 1. 0. 1. 0. 0. 0.\n",
      " 1. 1. 0. 1. 0. 1. 0. 0. 0. 1. 1. 0. 1. 0. 0. 0. 1. 0. 0. 0. 0. 0. 1. 0.\n",
      " 0. 1. 0. 0. 0. 0. 1. 0. 0. 0. 0. 1. 0. 0. 1. 0. 0. 1.]\n",
      "Model's Accuracy: 0.9298245614035088\n",
      "Model's Balanced Accuracy:\n",
      "Confusion Matrix:\n",
      "[[69  3]\n",
      " [ 5 37]]\n",
      "Confusion Matrix:\n",
      "[[37  5]\n",
      " [ 3 69]]\n",
      "Recall: 0.8809523809523809\n",
      "Specificity: 0.9583333333333334\n",
      "Precision: 0.925\n",
      "F1 Score: 0.9024390243902439\n",
      "FPR Score: 0.041666666666666664\n",
      "FNR Score: 0.11904761904761904\n",
      "NVP Score: 0.9324324324324325\n"
     ]
    }
   ],
   "source": [
    "test = pd.read_csv('wdbc_test_normalized.csv')\n",
    "test['Diagnosis'] = (test['Diagnosis'] == 'M').astype(int)\n",
    "names = test.columns[:-1].tolist()\n",
    "Xtest = test[names].values\n",
    "Ytest = test['Diagnosis'].values.reshape(-1,1)\n",
    "testXtrain, testXtest, testYtrain, testYtest = randomsplit(Xtest, Ytest, randomstate=42, testsize=1)\n",
    "mtg = DT(7, mode='gini')\n",
    "mtg.fit(Xtrain, Ytrain)\n",
    "py = mtg.predict(testXtest)\n",
    "print(py)\n",
    "print(f\"Model's Accuracy: {accuracy(testYtest, py)}\")\n",
    "print(f\"Model's Balanced Accuracy:\")\n",
    "recall, sp, p, f1, fpr, fnr, nvp = confusionMat(testYtest, py)\n",
    "print(f\"Recall: {recall}\")\n",
    "print(f\"Specificity: {sp}\")\n",
    "print(f\"Precision: {p}\")\n",
    "print(f\"F1 Score: {f1}\")\n",
    "print(f\"FPR Score: {fpr}\")\n",
    "print(f\"FNR Score: {fnr}\")\n",
    "print(f\"NVP Score: {nvp}\")"
   ]
  },
  {
   "cell_type": "code",
   "execution_count": 25,
   "id": "e62d09be-dcf0-4bc4-a818-64420e801a68",
   "metadata": {},
   "outputs": [
    {
     "name": "stdout",
     "output_type": "stream",
     "text": [
      "Model's Accuracy: 0.956140350877193\n",
      "Model's Balanced Accuracy:\n",
      "Confusion Matrix:\n",
      "[[70  2]\n",
      " [ 3 39]]\n",
      "Confusion Matrix:\n",
      "[[39  3]\n",
      " [ 2 70]]\n",
      "Recall: 0.9285714285714286\n",
      "Specificity: 0.9722222222222222\n",
      "Precision: 0.9512195121951219\n",
      "F1 Score: 0.9397590361445782\n",
      "FPR Score: 0.027777777777777776\n",
      "FNR Score: 0.07142857142857142\n",
      "NVP Score: 0.958904109589041\n"
     ]
    }
   ],
   "source": [
    "mt = DT(5, mode='entropy')\n",
    "mt.fit(Xtrain, Ytrain)\n",
    "\n",
    "pi = mt.predict(testXtest)\n",
    "print(f\"Model's Accuracy: {accuracy(testYtest, pi)}\")\n",
    "print(f\"Model's Balanced Accuracy:\")\n",
    "recall, sp, p, f1, fpr, fnr, nvp = confusionMat(testYtest, pi)\n",
    "print(f\"Recall: {recall}\")\n",
    "print(f\"Specificity: {sp}\")\n",
    "print(f\"Precision: {p}\")\n",
    "print(f\"F1 Score: {f1}\")\n",
    "print(f\"FPR Score: {fpr}\")\n",
    "print(f\"FNR Score: {fnr}\")\n",
    "print(f\"NVP Score: {nvp}\")"
   ]
  },
  {
   "cell_type": "code",
   "execution_count": 26,
   "id": "eaeecdb4-daaa-404d-83f8-a0d21ed8ec78",
   "metadata": {},
   "outputs": [
    {
     "name": "stdout",
     "output_type": "stream",
     "text": [
      "Confusion Matrix:\n",
      "[[69  3]\n",
      " [ 5 37]]\n",
      "Confusion Matrix:\n",
      "[[37  5]\n",
      " [ 3 69]]\n",
      "Confusion Matrix:\n",
      "[[70  2]\n",
      " [ 3 39]]\n",
      "Confusion Matrix:\n",
      "[[39  3]\n",
      " [ 2 70]]\n",
      "                 Criterion  Accuracy     Error  Precision    Recall\n",
      "0                     Gini  0.929825  0.070175    0.92500  0.880952\n",
      "1    Information Gain (IG)  0.956140  0.043860    0.95122  0.928571\n",
      "2  Majority Class Baseline  0.622807  0.377193    0.00000  0.000000\n"
     ]
    }
   ],
   "source": [
    "giniaccuracy = accuracy(testYtest, py)\n",
    "ginierror = 1 - giniaccuracy\n",
    "grecall, gsp, gp, gf1, gfpr, gfnr, gnvp = confusionMat(testYtest, py)\n",
    "giniprecision = gp\n",
    "ginirecall = grecall\n",
    "\n",
    "igaccuracy = accuracy(testYtest, pi)\n",
    "igerror = 1 - igaccuracy\n",
    "irecall, isp, ip, if1, ifpr, ifnr, invp = confusionMat(testYtest, pi)\n",
    "igprecision = ip\n",
    "igrecall = irecall\n",
    "\n",
    "performancetable = pd.DataFrame({\n",
    "    \"Criterion\": [\"Gini\", \"Information Gain (IG)\", \"Majority Class Baseline\"],\n",
    "    \"Accuracy\": [giniaccuracy, igaccuracy, majorityacc],\n",
    "    \"Error\": [ginierror, igerror, majorityerr],\n",
    "    \"Precision\": [giniprecision, igprecision, majoritypre],\n",
    "    \"Recall\": [ginirecall, igrecall, majorityrecall]\n",
    "})\n",
    "\n",
    "print(performancetable)"
   ]
  },
  {
   "cell_type": "code",
   "execution_count": 27,
   "id": "a2ff9050-e0a5-40bc-bb10-6d6489edbac8",
   "metadata": {},
   "outputs": [
    {
     "name": "stdout",
     "output_type": "stream",
     "text": [
      "0.9397590361445782\n"
     ]
    }
   ],
   "source": [
    "print(2 * (igprecision * igrecall)/(igprecision + igrecall))"
   ]
  },
  {
   "cell_type": "code",
   "execution_count": null,
   "id": "4a2f5b1b-f7f3-4d54-95d6-a59a14e58726",
   "metadata": {},
   "outputs": [],
   "source": []
  }
 ],
 "metadata": {
  "kernelspec": {
   "display_name": "Python 3 (ipykernel)",
   "language": "python",
   "name": "python3"
  },
  "language_info": {
   "codemirror_mode": {
    "name": "ipython",
    "version": 3
   },
   "file_extension": ".py",
   "mimetype": "text/x-python",
   "name": "python",
   "nbconvert_exporter": "python",
   "pygments_lexer": "ipython3",
   "version": "3.12.6"
  }
 },
 "nbformat": 4,
 "nbformat_minor": 5
}
