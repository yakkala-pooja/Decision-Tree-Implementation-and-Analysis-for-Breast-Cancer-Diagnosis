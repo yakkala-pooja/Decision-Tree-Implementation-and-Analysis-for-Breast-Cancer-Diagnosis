{
 "cells": [
  {
   "cell_type": "markdown",
   "id": "6c70ff83-b459-470c-bda3-e2674b554913",
   "metadata": {},
   "source": [
    "**Importing required libraries\n",
    "Getting Train, Validation and Test datasets\n",
    "Encoding Class Label (y)\n",
    "Dividing the Datasets as X and Y**"
   ]
  },
  {
   "cell_type": "code",
   "execution_count": 1,
   "id": "9599ae0f-04a7-4815-9a1e-d7fb0b910a8a",
   "metadata": {},
   "outputs": [],
   "source": [
    "import math\n",
    "import numpy as np\n",
    "import pandas as pd\n",
    "import matplotlib.pyplot as plt\n",
    "import graphviz\n",
    "import scipy.stats as stats\n",
    "\n",
    "df = pd.read_csv('wdbc_train_normalized.csv')\n",
    "dev = pd.read_csv('wdbc_dev_normalized.csv')\n",
    "\n",
    "df['Diagnosis'] = (df['Diagnosis'] == 'M').astype(int)\n",
    "dev['Diagnosis'] = (dev['Diagnosis'] == 'M').astype(int)\n",
    "names = df.columns[:-1].tolist()\n",
    "\n",
    "X = df[names].values\n",
    "Y = df['Diagnosis'].values.reshape(-1,1)\n",
    "\n",
    "devX = dev[names].values\n",
    "devY = dev['Diagnosis'].values.reshape(-1,1)"
   ]
  },
  {
   "cell_type": "markdown",
   "id": "394a51cc-82a6-4d96-b928-d9ee134497ff",
   "metadata": {},
   "source": [
    "**Creating a Decision Tree Node class and Decision Tree class with chi square pruning**"
   ]
  },
  {
   "cell_type": "code",
   "execution_count": 2,
   "id": "6139b41b-4a94-4881-a49d-88e30ac70956",
   "metadata": {},
   "outputs": [],
   "source": [
    "class DTNode():\n",
    "\n",
    "    def __init__(self, attribute=None, threshold=None, leftsub=None, rightsub=None, gain=None, value=None):\n",
    "        self.attribute = attribute\n",
    "        self.threshold = threshold\n",
    "        self.rightsub = rightsub\n",
    "        self.leftsub = leftsub\n",
    "        self.gain = gain\n",
    "        self.value = value\n",
    "\n",
    "class DT():\n",
    "\n",
    "    def __init__(self, max_depth=30, mode=\"entropy\", chithres=0.05, pruning=False):\n",
    "        self.max_depth = max_depth\n",
    "        self.mode = mode\n",
    "        self.chithres = chithres\n",
    "        self.pruning = pruning\n",
    "\n",
    "    def splitdata(self, dataset, attribute, threshold):\n",
    "        ltemp = dataset[:, attribute] <= threshold\n",
    "        leftset = dataset[ltemp]\n",
    "        rtemp = dataset[:, attribute] > threshold\n",
    "        rightset = dataset[rtemp]\n",
    "        return leftset, rightset\n",
    "\n",
    "    def entropy(self, y):\n",
    "        entropy = 0\n",
    "        labels = np.unique(y)\n",
    "        for label in labels:\n",
    "            pl = len(y[y == label]) / len(y)\n",
    "            entropy += -pl * np.log2(pl) if pl > 0 else 0\n",
    "        return entropy\n",
    "\n",
    "    def gini(self, y):\n",
    "        gini = 1\n",
    "        labels = np.unique(y)\n",
    "        for label in labels:\n",
    "            pg = len(y[y == label]) / len(y)\n",
    "            gini -= pg ** 2\n",
    "        return gini\n",
    "\n",
    "    def infogain(self, parent, left, right):\n",
    "        wright = len(right) / len(parent)\n",
    "        wleft = len(left) / len(parent)\n",
    "        weighted_en = (wleft * self.entropy(left)) + (wright * self.entropy(right))\n",
    "        return self.entropy(parent) - weighted_en\n",
    "\n",
    "    def ginigain(self, parent, left, right):\n",
    "        wright = len(right) / len(parent)\n",
    "        wleft = len(left) / len(parent)\n",
    "        weighted_gini = (wleft * self.gini(left)) + (wright * self.gini(right))\n",
    "        return self.gini(parent) - weighted_gini\n",
    "\n",
    "    def chisquare(self, parent, left, right):\n",
    "        unclass = np.unique(parent)\n",
    "        size = len(parent)\n",
    "        obleft = [np.sum(left == cls) for cls in unclass]\n",
    "        obright = [np.sum(right == cls) for cls in unclass]\n",
    "        totcount = [np.sum(parent == cls) for cls in unclass]\n",
    "        exleft = [(count * len(left)) / size for count in totcount]\n",
    "        exright = [(count * len(right)) / size for count in totcount]\n",
    "        chisq = 0\n",
    "        for obsl, obsr, expl, expr in zip(obleft, obright, exleft, exright):\n",
    "            chisq += ((obsl - expl) ** 2 / expl) if expl > 0 else 0\n",
    "            chisq += ((obsr - expr) ** 2 / expr) if expr > 0 else 0\n",
    "        \n",
    "        return chisq\n",
    "\n",
    "    def bestsplit(self, dataset, nattributes):\n",
    "        splitresult = {'gain': -1, 'attribute': None, 'threshold': None}\n",
    "        for index in range(nattributes):\n",
    "            values = dataset[:, index]\n",
    "            thresholds = np.unique(values)\n",
    "            for threshold in thresholds:\n",
    "                leftdset, rightdset = self.splitdata(dataset, index, threshold)\n",
    "                if len(leftdset) and len(rightdset):\n",
    "                    parent = dataset[:, -1]\n",
    "                    lefty, righty = leftdset[:, -1], rightdset[:, -1]\n",
    "\n",
    "                    if self.mode == \"entropy\":\n",
    "                        gain = self.infogain(parent, lefty, righty)\n",
    "                    elif self.mode == \"gini\":\n",
    "                        gain = self.ginigain(parent, lefty, righty)\n",
    "                    if self.pruning:\n",
    "                        chival = self.chisquare(parent, lefty, righty)\n",
    "                        pval = 1 - stats.chi2.cdf(chival, df=len(np.unique(parent)) - 1)\n",
    "                        if pval < self.chithres and gain > splitresult[\"gain\"]:\n",
    "                            splitresult[\"threshold\"] = threshold\n",
    "                            splitresult[\"attribute\"] = index\n",
    "                            splitresult[\"leftset\"] = leftdset\n",
    "                            splitresult[\"rightset\"] = rightdset\n",
    "                            splitresult[\"gain\"] = gain\n",
    "                        else:\n",
    "                            if gain > splitresult[\"gain\"]:\n",
    "                                splitresult[\"threshold\"] = threshold\n",
    "                                splitresult[\"attribute\"] = index\n",
    "                                splitresult[\"leftset\"] = leftdset\n",
    "                                splitresult[\"rightset\"] = rightdset\n",
    "                                splitresult[\"gain\"] = gain\n",
    "        return splitresult\n",
    "\n",
    "    def leafval(self, y):\n",
    "        return max(y, key=list(y).count)\n",
    "\n",
    "    def treeBuilding(self, dataset, currdepth=0):\n",
    "        X, Y = dataset[:, :-1], dataset[:, -1]\n",
    "        nsamples, nattributes = X.shape\n",
    "        if currdepth <= self.max_depth:\n",
    "            splitresult = self.bestsplit(dataset, nattributes)\n",
    "            if splitresult[\"gain\"] > 0:\n",
    "                leftnode = self.treeBuilding(splitresult[\"leftset\"], currdepth + 1)\n",
    "                rightnode = self.treeBuilding(splitresult[\"rightset\"], currdepth + 1)\n",
    "                return DTNode(splitresult[\"attribute\"], splitresult[\"threshold\"], leftnode, rightnode, splitresult[\"gain\"])\n",
    "        leaf = self.leafval(Y)\n",
    "        return DTNode(value=leaf)\n",
    "\n",
    "    def fit(self, X, Y):\n",
    "        dataset = np.concatenate((X, Y.reshape(-1, 1)), axis=1)\n",
    "        self.root = self.treeBuilding(dataset)\n",
    "\n",
    "    def predict(self, X):\n",
    "        predictions = [self.prediction(x, self.root) for x in X]\n",
    "        return np.array(predictions)\n",
    "\n",
    "    def prediction(self, x, node):\n",
    "        if node.value is not None:\n",
    "            return node.value\n",
    "        attribute = x[node.attribute]\n",
    "        if attribute <= node.threshold:\n",
    "            return self.prediction(x, node.leftsub)\n",
    "        return self.prediction(x, node.rightsub)\n",
    "\n",
    "    def treeDiagram(self, node=None, dot=None):\n",
    "        if dot is None:\n",
    "            dot = graphviz.Digraph(comment='Decision Tree')\n",
    "        if node is None:\n",
    "            node = self.root\n",
    "        if node.value is not None:\n",
    "            dot.node(str(id(node)), f\"Class: {node.value}\", shape='box')\n",
    "        else:\n",
    "            dot.node(str(id(node)), f\"Feature {node.attribute} <= {node.threshold}\")\n",
    "            if node.leftsub:\n",
    "                dot.edge(str(id(node)), str(id(node.leftsub)), label=\"True\")\n",
    "                self.treeDiagram(node.leftsub, dot)\n",
    "            if node.rightsub:\n",
    "                dot.edge(str(id(node)), str(id(node.rightsub)), label=\"False\")\n",
    "                self.treeDiagram(node.rightsub, dot)\n",
    "        return dot"
   ]
  },
  {
   "cell_type": "markdown",
   "id": "509eb9fe-d02a-4236-ad41-4f4763299eb9",
   "metadata": {},
   "source": [
    "**Random split function**"
   ]
  },
  {
   "cell_type": "code",
   "execution_count": 3,
   "id": "6d4655ea-6ca7-44a9-b375-bfae92e3c4d7",
   "metadata": {},
   "outputs": [],
   "source": [
    "def randomsplit(X, Y, randomstate=41, testsize=0.2):\n",
    "    nsamples = X.shape[0]\n",
    "    np.random.seed(randomstate)\n",
    "    shuffled = np.random.permutation(np.arange(nsamples))\n",
    "    ts = int(nsamples * testsize)\n",
    "    test = shuffled[:ts]\n",
    "    train = shuffled[ts:]\n",
    "    X_train, X_test = X[train], X[test]\n",
    "    y_train, y_test = Y[train], Y[test]\n",
    "    return X_train, X_test, y_train, y_test"
   ]
  },
  {
   "cell_type": "markdown",
   "id": "8967034e-b0ae-473d-9400-2224c6cd0ab1",
   "metadata": {},
   "source": [
    "**Accuracy and Informativeness Metrics**"
   ]
  },
  {
   "cell_type": "code",
   "execution_count": 4,
   "id": "266aa23b-7d6c-4383-a757-477800f5bb24",
   "metadata": {},
   "outputs": [],
   "source": [
    "def accuracy(ytrue, ypred):\n",
    "    ytrue = ytrue.flatten()\n",
    "    ypred = ypred.flatten()\n",
    "    totsample = len(ytrue)\n",
    "    correctpred = np.sum(ytrue == ypred)\n",
    "    return (correctpred / totsample) "
   ]
  },
  {
   "cell_type": "code",
   "execution_count": 5,
   "id": "17408b2f-e192-4ea1-801b-ef9e2e08485a",
   "metadata": {},
   "outputs": [],
   "source": [
    "def precision(TP, FP):\n",
    "    if (TP + FP) > 0:\n",
    "        precision = TP / (TP + FP)\n",
    "    else: \n",
    "        precision = 0\n",
    "    return precision\n",
    "\n",
    "def specificity(TN, FP):\n",
    "    specificity = TN / (TN + FP)\n",
    "    return specificity\n",
    "\n",
    "def npv(TN, FN):\n",
    "    if (TN + FN) > 0:\n",
    "        npv = TN / (TN + FN)\n",
    "    else:\n",
    "        npv = 0\n",
    "    return npv\n",
    "\n",
    "def confusionMat(ytrue, ypred):\n",
    "    ypred = ypred.flatten()\n",
    "    ytrue = ytrue.flatten()\n",
    "    nclass = len(np.unique(ytrue))\n",
    "    for i in range(nclass):\n",
    "        mpred = ypred == i\n",
    "        mtrue = ytrue == i\n",
    "        TP = np.sum(mtrue & mpred)\n",
    "        TN = np.sum((mtrue != True) & (mpred != True))\n",
    "        FP = np.sum((mtrue != True) & mpred)\n",
    "        FN = np.sum(mtrue & (mpred != True))\n",
    "        s = TP / (TP + FN)\n",
    "        p = precision(TP, FP)\n",
    "        specific = specificity(TN, FP)\n",
    "        f = f1 = 2 * (p * s)/(p + s) if (p+s) > 0 else 0\n",
    "        fp = FP / (FP + TN)\n",
    "        fn = FN / (FN + TP)\n",
    "        n = npv(TN, FN)\n",
    "        confusionMat = np.array([[TP, FN], [FP, TN]])\n",
    "        print(\"Confusion Matrix:\")\n",
    "        print(confusionMat)\n",
    "    return s, specific, p, f, fp, fn, n"
   ]
  },
  {
   "cell_type": "code",
   "execution_count": 6,
   "id": "a218a1e9-570e-4a61-80b3-912183777684",
   "metadata": {},
   "outputs": [],
   "source": [
    "Xtrain, Xtest, Ytrain, Ytest = randomsplit(X, Y, randomstate=42, testsize=0)"
   ]
  },
  {
   "cell_type": "code",
   "execution_count": 7,
   "id": "9c56f221-72f8-40f7-86ca-88d595e2a3d7",
   "metadata": {},
   "outputs": [
    {
     "name": "stdin",
     "output_type": "stream",
     "text": [
      "gini or entropy entropy\n"
     ]
    }
   ],
   "source": [
    "mode = input(\"gini or entropy\")\n",
    "model = DT(7, mode)\n",
    "model.fit(X, Y)"
   ]
  },
  {
   "cell_type": "markdown",
   "id": "a16e2e4a-0ec6-4c89-8d92-27909b04b1b0",
   "metadata": {},
   "source": [
    "**Decision Tree Visualization**"
   ]
  },
  {
   "cell_type": "code",
   "execution_count": 8,
   "id": "29d89926-4729-438d-94d1-2d1300616838",
   "metadata": {},
   "outputs": [
    {
     "data": {
      "text/plain": [
       "'decision_treeTrain.gv.pdf'"
      ]
     },
     "execution_count": 8,
     "metadata": {},
     "output_type": "execute_result"
    }
   ],
   "source": [
    "dot = model.treeDiagram(model.root)\n",
    "dot.render('decision_treeTrain.gv', view=True)"
   ]
  },
  {
   "cell_type": "markdown",
   "id": "ac2fb91a-a86a-4a3b-bdb7-d95ffba6c960",
   "metadata": {},
   "source": [
    "**Validation with Dev dataset**"
   ]
  },
  {
   "cell_type": "code",
   "execution_count": 9,
   "id": "2a869d57-d0c6-4e55-b28e-8f698816f292",
   "metadata": {},
   "outputs": [],
   "source": [
    "devXtrain, devXtest, devYtrain, devYtest = randomsplit(devX, devY, randomstate=42, testsize=1)\n",
    "\n",
    "prediction = model.predict(devXtest)"
   ]
  },
  {
   "cell_type": "code",
   "execution_count": 15,
   "id": "6af2a784-c36c-4a03-9a56-a4ac72a0b1fa",
   "metadata": {},
   "outputs": [
    {
     "name": "stdout",
     "output_type": "stream",
     "text": [
      "Model's Accuracy: 0.6228070175438597\n",
      "Model's Confusion Matrix:\n",
      "Confusion Matrix:\n",
      "[[71  0]\n",
      " [43  0]]\n",
      "Confusion Matrix:\n",
      "[[ 0 43]\n",
      " [ 0 71]]\n",
      "Recall: 0.0\n",
      "Specificity: 1.0\n",
      "Precision: 0\n",
      "F1 Score: 0\n",
      "FPR Score: 0.0\n",
      "FNR Score: 1.0\n",
      "NVP Score: 0.6228070175438597\n"
     ]
    }
   ],
   "source": [
    "print(f\"Model's Accuracy: {accuracy(devYtest, prediction)}\")\n",
    "print(f\"Model's Confusion Matrix:\")\n",
    "recall, sp, p, f1, fpr, fnr, nvp = confusionMat(devYtest, prediction)\n",
    "print(f\"Recall: {recall}\")\n",
    "print(f\"Specificity: {sp}\")\n",
    "print(f\"Precision: {p}\")\n",
    "print(f\"F1 Score: {f1}\")\n",
    "print(f\"FPR Score: {fpr}\")\n",
    "print(f\"FNR Score: {fnr}\")\n",
    "print(f\"NVP Score: {nvp}\")"
   ]
  },
  {
   "cell_type": "markdown",
   "id": "3695016b-61da-45e5-9764-2fb1a6771e7b",
   "metadata": {},
   "source": [
    "**Tuning the hyperparameters with chi square on and off**"
   ]
  },
  {
   "cell_type": "code",
   "execution_count": 11,
   "id": "abf6898c-0f6b-4b57-afaa-c5a38ce708b6",
   "metadata": {},
   "outputs": [
    {
     "name": "stdout",
     "output_type": "stream",
     "text": [
      "Params: max_depth=3, mode=gini, pruning=active, Accuracy=0.9210526315789473\n",
      "Params: max_depth=3, mode=gini, pruning=inactive, Accuracy=0.6228070175438597\n",
      "Params: max_depth=3, mode=entropy, pruning=active, Accuracy=0.9210526315789473\n",
      "Params: max_depth=3, mode=entropy, pruning=inactive, Accuracy=0.6228070175438597\n",
      "Params: max_depth=5, mode=gini, pruning=active, Accuracy=0.9210526315789473\n",
      "Params: max_depth=5, mode=gini, pruning=inactive, Accuracy=0.6228070175438597\n",
      "Params: max_depth=5, mode=entropy, pruning=active, Accuracy=0.9298245614035088\n",
      "Params: max_depth=5, mode=entropy, pruning=inactive, Accuracy=0.6228070175438597\n",
      "Params: max_depth=7, mode=gini, pruning=active, Accuracy=0.9298245614035088\n",
      "Params: max_depth=7, mode=gini, pruning=inactive, Accuracy=0.6228070175438597\n",
      "Params: max_depth=7, mode=entropy, pruning=active, Accuracy=0.9298245614035088\n",
      "Params: max_depth=7, mode=entropy, pruning=inactive, Accuracy=0.6228070175438597\n",
      "Params: max_depth=15, mode=gini, pruning=active, Accuracy=0.9298245614035088\n",
      "Params: max_depth=15, mode=gini, pruning=inactive, Accuracy=0.6228070175438597\n",
      "Params: max_depth=15, mode=entropy, pruning=active, Accuracy=0.9298245614035088\n",
      "Params: max_depth=15, mode=entropy, pruning=inactive, Accuracy=0.6228070175438597\n",
      "Params: max_depth=20, mode=gini, pruning=active, Accuracy=0.9298245614035088\n",
      "Params: max_depth=20, mode=gini, pruning=inactive, Accuracy=0.6228070175438597\n",
      "Params: max_depth=20, mode=entropy, pruning=active, Accuracy=0.9298245614035088\n",
      "Params: max_depth=20, mode=entropy, pruning=inactive, Accuracy=0.6228070175438597\n",
      "Params: max_depth=25, mode=gini, pruning=active, Accuracy=0.9298245614035088\n",
      "Params: max_depth=25, mode=gini, pruning=inactive, Accuracy=0.6228070175438597\n",
      "Params: max_depth=25, mode=entropy, pruning=active, Accuracy=0.9298245614035088\n",
      "Params: max_depth=25, mode=entropy, pruning=inactive, Accuracy=0.6228070175438597\n",
      "\n",
      "Best Hyperparameters:\n",
      "{'max_depth': 5, 'mode': 'entropy', 'pruning': 'active'}\n",
      "Best Accuracy: 0.9298245614035088\n"
     ]
    }
   ],
   "source": [
    "def tuning(Xtrain, Ytrain, Xtest, Ytest):\n",
    "    max_depths = [3, 5, 7, 15, 20, 25]\n",
    "    modes = ['gini', 'entropy'] \n",
    "    bestacc = 0 \n",
    "    params = {}\n",
    "    pruning = ['active', 'inactive']\n",
    "\n",
    "    for md in max_depths:\n",
    "        for mode in modes:\n",
    "            for prun in pruning:\n",
    "                if prun == 'active':\n",
    "                    tree = DT(max_depth=md, mode=mode, pruning=True)\n",
    "                else:\n",
    "                    tree = DT(max_depth=md, mode=mode, pruning=False)\n",
    "\n",
    "                tree.fit(Xtrain, Ytrain)\n",
    "                Ypred = tree.predict(Xtest)\n",
    "                acc = accuracy(Ytest, Ypred) \n",
    "                if acc > bestacc:\n",
    "                    bestacc = acc\n",
    "                    params = {\n",
    "                        'max_depth': md,\n",
    "                        'mode': mode,\n",
    "                        'pruning': prun\n",
    "                    }\n",
    "                print(f\"Params: max_depth={md}, mode={mode}, pruning={prun}, Accuracy={acc}\")\n",
    "    print(\"\\nBest Hyperparameters:\")\n",
    "    print(params)\n",
    "    print(f\"Best Accuracy: {bestacc}\")\n",
    "tuning(Xtrain, Ytrain, devXtest, devYtest)"
   ]
  },
  {
   "cell_type": "markdown",
   "id": "74395065-6a95-4698-bf04-4975a48b8c21",
   "metadata": {},
   "source": [
    "**Testing with Chi square**"
   ]
  },
  {
   "cell_type": "code",
   "execution_count": 12,
   "id": "5951457c-4fcf-4478-89e8-5c7fb643a78b",
   "metadata": {},
   "outputs": [
    {
     "name": "stdout",
     "output_type": "stream",
     "text": [
      "[0. 0. 1. 0. 1. 0. 1. 1. 1. 0. 0. 1. 0. 1. 0. 1. 0. 0. 0. 0. 1. 0. 0. 1.\n",
      " 1. 0. 0. 0. 0. 0. 0. 0. 0. 0. 0. 1. 0. 0. 0. 0. 1. 0. 1. 0. 0. 0. 0. 1.\n",
      " 1. 0. 1. 0. 0. 0. 1. 1. 0. 0. 1. 0. 1. 0. 0. 1. 1. 1. 1. 0. 1. 0. 0. 0.\n",
      " 1. 1. 0. 1. 0. 1. 0. 0. 0. 1. 1. 0. 1. 0. 0. 0. 1. 0. 0. 0. 0. 0. 1. 0.\n",
      " 0. 1. 0. 0. 0. 0. 1. 0. 0. 0. 0. 1. 0. 0. 1. 0. 0. 1.]\n",
      "Model's Accuracy: 0.9298245614035088\n",
      "Model's Balanced Accuracy:\n",
      "Confusion Matrix:\n",
      "[[69  3]\n",
      " [ 5 37]]\n",
      "Confusion Matrix:\n",
      "[[37  5]\n",
      " [ 3 69]]\n",
      "Recall: 0.8809523809523809\n",
      "Specificity: 0.9583333333333334\n",
      "Precision: 0.925\n",
      "F1 Score: 0.9024390243902439\n",
      "FPR Score: 0.041666666666666664\n",
      "FNR Score: 0.11904761904761904\n",
      "NVP Score: 0.9324324324324325\n"
     ]
    }
   ],
   "source": [
    "test = pd.read_csv('wdbc_test_normalized.csv')\n",
    "test['Diagnosis'] = (test['Diagnosis'] == 'M').astype(int)\n",
    "names = test.columns[:-1].tolist()\n",
    "Xtest = test[names].values\n",
    "Ytest = test['Diagnosis'].values.reshape(-1,1)\n",
    "testXtrain, testXtest, testYtrain, testYtest = randomsplit(Xtest, Ytest, randomstate=42, testsize=1)\n",
    "mtg = DT(7, mode='gini', pruning='active')\n",
    "mtg.fit(Xtrain, Ytrain)\n",
    "py = mtg.predict(testXtest)\n",
    "print(py)\n",
    "print(f\"Model's Accuracy: {accuracy(testYtest, py)}\")\n",
    "print(f\"Model's Balanced Accuracy:\")\n",
    "recall, sp, p, f1, fpr, fnr, nvp = confusionMat(testYtest, py)\n",
    "print(f\"Recall: {recall}\")\n",
    "print(f\"Specificity: {sp}\")\n",
    "print(f\"Precision: {p}\")\n",
    "print(f\"F1 Score: {f1}\")\n",
    "print(f\"FPR Score: {fpr}\")\n",
    "print(f\"FNR Score: {fnr}\")\n",
    "print(f\"NVP Score: {nvp}\")"
   ]
  },
  {
   "cell_type": "code",
   "execution_count": 13,
   "id": "950ae16c-9f27-48d7-bb04-3faae884b352",
   "metadata": {},
   "outputs": [
    {
     "name": "stdout",
     "output_type": "stream",
     "text": [
      "Model's Accuracy: 0.956140350877193\n",
      "Model's Balanced Accuracy:\n",
      "Confusion Matrix:\n",
      "[[70  2]\n",
      " [ 3 39]]\n",
      "Confusion Matrix:\n",
      "[[39  3]\n",
      " [ 2 70]]\n",
      "Recall: 0.9285714285714286\n",
      "Specificity: 0.9722222222222222\n",
      "Precision: 0.9512195121951219\n",
      "F1 Score: 0.9397590361445782\n",
      "FPR Score: 0.027777777777777776\n",
      "FNR Score: 0.07142857142857142\n",
      "NVP Score: 0.958904109589041\n"
     ]
    }
   ],
   "source": [
    "mt = DT(5, mode='entropy', pruning='active')\n",
    "mt.fit(Xtrain, Ytrain)\n",
    "\n",
    "pi = mt.predict(testXtest)\n",
    "print(f\"Model's Accuracy: {accuracy(testYtest, pi)}\")\n",
    "print(f\"Model's Balanced Accuracy:\")\n",
    "recall, sp, p, f1, fpr, fnr, nvp = confusionMat(testYtest, pi)\n",
    "print(f\"Recall: {recall}\")\n",
    "print(f\"Specificity: {sp}\")\n",
    "print(f\"Precision: {p}\")\n",
    "print(f\"F1 Score: {f1}\")\n",
    "print(f\"FPR Score: {fpr}\")\n",
    "print(f\"FNR Score: {fnr}\")\n",
    "print(f\"NVP Score: {nvp}\")"
   ]
  },
  {
   "cell_type": "markdown",
   "id": "a1ba120f-8a48-4295-a852-f8a6e90528fa",
   "metadata": {},
   "source": [
    "**Performance Table**"
   ]
  },
  {
   "cell_type": "code",
   "execution_count": 14,
   "id": "bf7e7116-e1d8-4772-a2f6-a4518fa529ca",
   "metadata": {},
   "outputs": [
    {
     "name": "stdout",
     "output_type": "stream",
     "text": [
      "Confusion Matrix:\n",
      "[[69  3]\n",
      " [ 5 37]]\n",
      "Confusion Matrix:\n",
      "[[37  5]\n",
      " [ 3 69]]\n",
      "Confusion Matrix:\n",
      "[[70  2]\n",
      " [ 3 39]]\n",
      "Confusion Matrix:\n",
      "[[39  3]\n",
      " [ 2 70]]\n",
      "               Criterion  Accuracy     Error  Precision    Recall\n",
      "0                   Gini  0.929825  0.070175    0.92500  0.880952\n",
      "1  Information Gain (IG)  0.956140  0.043860    0.95122  0.928571\n"
     ]
    }
   ],
   "source": [
    "giniaccuracy = accuracy(testYtest, py)\n",
    "ginierror = 1 - giniaccuracy\n",
    "grecall, gsp, gp, gf1, gfpr, gfnr, gnvp = confusionMat(testYtest, py)\n",
    "giniprecision = gp\n",
    "ginirecall = grecall\n",
    "\n",
    "igaccuracy = accuracy(testYtest, pi)\n",
    "igerror = 1 - igaccuracy\n",
    "irecall, isp, ip, if1, ifpr, ifnr, invp = confusionMat(testYtest, pi)\n",
    "igprecision = ip\n",
    "igrecall = irecall\n",
    "\n",
    "performancetable = pd.DataFrame({\n",
    "    \"Criterion\": [\"Gini\", \"Information Gain (IG)\"],\n",
    "    \"Accuracy\": [giniaccuracy, igaccuracy],\n",
    "    \"Error\": [ginierror, igerror],\n",
    "    \"Precision\": [giniprecision, igprecision],\n",
    "    \"Recall\": [ginirecall, igrecall]\n",
    "})\n",
    "\n",
    "print(performancetable)"
   ]
  },
  {
   "cell_type": "code",
   "execution_count": null,
   "id": "edd90970-1bf2-47f1-a7ad-c77445feea71",
   "metadata": {},
   "outputs": [],
   "source": []
  }
 ],
 "metadata": {
  "kernelspec": {
   "display_name": "Python 3 (ipykernel)",
   "language": "python",
   "name": "python3"
  },
  "language_info": {
   "codemirror_mode": {
    "name": "ipython",
    "version": 3
   },
   "file_extension": ".py",
   "mimetype": "text/x-python",
   "name": "python",
   "nbconvert_exporter": "python",
   "pygments_lexer": "ipython3",
   "version": "3.12.6"
  }
 },
 "nbformat": 4,
 "nbformat_minor": 5
}
